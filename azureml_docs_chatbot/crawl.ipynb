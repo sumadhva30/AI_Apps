{
 "cells": [
  {
   "cell_type": "code",
   "execution_count": 1,
   "metadata": {},
   "outputs": [],
   "source": [
    "from selenium import webdriver\n",
    "from selenium.webdriver.common.by import By\n",
    "from selenium.webdriver.support.ui import WebDriverWait\n",
    "from selenium.webdriver.support import expected_conditions as EC\n",
    "import time\n",
    "import os"
   ]
  },
  {
   "cell_type": "code",
   "execution_count": 2,
   "metadata": {},
   "outputs": [],
   "source": [
    "# Setup Selenium WebDriver for Edge\n",
    "def setup_driver():\n",
    "    driver = driver = webdriver.Edge()\n",
    "    return driver"
   ]
  },
  {
   "cell_type": "code",
   "execution_count": 3,
   "metadata": {},
   "outputs": [],
   "source": [
    "# Function to interact with the page and reveal all links\n",
    "def interact_and_get_links(driver, base_url):\n",
    "    driver.get(base_url)\n",
    "    \n",
    "    # Wait for the page to load and for interactive elements to be clickable\n",
    "    WebDriverWait(driver, 10).until(EC.presence_of_element_located((By.TAG_NAME, 'body')))\n",
    "    \n",
    "    # Example interactions (adjust based on actual interactions needed):\n",
    "    # Click on buttons or load more content\n",
    "    try:\n",
    "        while True:\n",
    "            # Click all \"Show More\" or similar buttons to reveal more content\n",
    "            buttons = driver.find_elements(By.CSS_SELECTOR, '.show-more-button')  # Example selector\n",
    "            if buttons:\n",
    "                for button in buttons:\n",
    "                    button.click()\n",
    "                    time.sleep(2)  # Wait for content to load\n",
    "            else:\n",
    "                break\n",
    "    except Exception as e:\n",
    "        print(f\"Exception occurred: {e}\")\n",
    "    \n",
    "    # Extract all article links\n",
    "    links = set()\n",
    "    for element in driver.find_elements(By.TAG_NAME, 'a'):\n",
    "        href = element.get_attribute('href')\n",
    "        if href and href.startswith(base_url):\n",
    "            links.add(href)\n",
    "    \n",
    "    return links"
   ]
  },
  {
   "cell_type": "code",
   "execution_count": 10,
   "metadata": {},
   "outputs": [],
   "source": [
    "import pdfkit\n",
    "\n",
    "def save_page_as_pdf(url, output_filename):\n",
    "    # Configure pdfkit options (if needed)\n",
    "    options = {\n",
    "        'quiet': ''  # Optional: Run in quiet mode\n",
    "    }\n",
    "    configuration = pdfkit.configuration(wkhtmltopdf=\"C:\\Program Files\\wkhtmltopdf\\\\bin\\wkhtmltopdf.exe\")\n",
    "    \n",
    "    # Save the web page as PDF\n",
    "    pdfkit.from_url(url, output_filename, options=options, configuration=configuration)"
   ]
  },
  {
   "cell_type": "code",
   "execution_count": 11,
   "metadata": {},
   "outputs": [
    {
     "name": "stdout",
     "output_type": "stream",
     "text": [
      "Saving https://learn.microsoft.com/en-us/azure/machine-learning/how-to-r-train-model?view=azureml-api-2 as PDF...\n",
      "Saving https://learn.microsoft.com/en-us/azure/machine-learning/concept-model-management-and-deployment?view=azureml-api-2 as PDF...\n",
      "Saving https://learn.microsoft.com/en-us/azure/machine-learning/concept-enterprise-security?view=azureml-api-2 as PDF...\n",
      "Saving https://learn.microsoft.com/en-us/azure/machine-learning/tutorial-train-model?view=azureml-api-2 as PDF...\n",
      "Saving https://learn.microsoft.com/en-us/azure/machine-learning/tutorial-explore-data?view=azureml-api-2 as PDF...\n",
      "Saving https://learn.microsoft.com/en-us/azure/machine-learning/?view=azureml-api-2 as PDF...\n",
      "Saving https://learn.microsoft.com/en-us/azure/machine-learning/how-to-tune-hyperparameters?view=azureml-api-2 as PDF...\n",
      "Saving https://learn.microsoft.com/en-us/azure/machine-learning/tutorial-cloud-workstation?view=azureml-api-2 as PDF...\n",
      "Saving https://learn.microsoft.com/en-us/azure/machine-learning/tutorial-create-secure-workspace?view=azureml-api-2 as PDF...\n",
      "Saving https://learn.microsoft.com/en-us/azure/machine-learning/how-to-r-deploy-r-model?view=azureml-api-2 as PDF...\n",
      "Saving https://learn.microsoft.com/en-us/azure/machine-learning/how-to-mltable?view=azureml-api-2 as PDF...\n",
      "Saving https://learn.microsoft.com/en-us/azure/machine-learning/overview-what-is-azure-machine-learning?view=azureml-api-2 as PDF...\n",
      "Saving https://learn.microsoft.com/en-us/azure/machine-learning/interactive-data-wrangling-with-apache-spark-azure-ml?view=azureml-api-2 as PDF...\n",
      "Saving https://learn.microsoft.com/en-us/azure/machine-learning/how-to-create-data-assets?view=azureml-api-2 as PDF...\n",
      "Saving https://learn.microsoft.com/en-us/azure/machine-learning/how-to-track-monitor-analyze-runs?view=azureml-api-2 as PDF...\n",
      "Saving https://learn.microsoft.com/en-us/azure/machine-learning/how-to-access-data?view=azureml-api-2 as PDF...\n",
      "Saving https://learn.microsoft.com/en-us/azure/machine-learning/how-to-deploy-online-endpoints?view=azureml-api-2 as PDF...\n",
      "Saving https://learn.microsoft.com/en-us/azure/machine-learning/?view=azureml-api-1 as PDF...\n",
      "Saving https://learn.microsoft.com/en-us/azure/machine-learning/how-to-migrate-from-v1?view=azureml-api-2 as PDF...\n",
      "Saving https://learn.microsoft.com/en-us/azure/machine-learning/how-to-train-model?view=azureml-api-2 as PDF...\n",
      "Saving https://learn.microsoft.com/en-us/azure/machine-learning/?view=azureml-api-2#main as PDF...\n",
      "Saving https://learn.microsoft.com/en-us/azure/machine-learning/?view=azureml-api-2# as PDF...\n",
      "Saving https://learn.microsoft.com/en-us/azure/machine-learning/algorithm-module-reference/module-reference?view=azureml-api-2 as PDF...\n",
      "Saving https://learn.microsoft.com/en-us/azure/machine-learning/tutorial-azure-ml-in-a-day?view=azureml-api-2 as PDF...\n",
      "Saving https://learn.microsoft.com/en-us/azure/machine-learning/classic/?view=azureml-api-2 as PDF...\n",
      "Saving https://learn.microsoft.com/en-us/azure/machine-learning/concept-endpoints?view=azureml-api-2 as PDF...\n",
      "Saving https://learn.microsoft.com/en-us/azure/machine-learning/tutorial-deploy-model?view=azureml-api-2 as PDF...\n",
      "Saving https://learn.microsoft.com/en-us/azure/machine-learning/tutorial-pipeline-python-sdk?view=azureml-api-2 as PDF...\n",
      "Saving https://learn.microsoft.com/en-us/azure/machine-learning/quickstart-create-resources?view=azureml-api-2 as PDF...\n",
      "Saving https://learn.microsoft.com/en-us/azure/machine-learning/tutorial-first-experiment-automated-ml?view=azureml-api-2 as PDF...\n",
      "Saving https://learn.microsoft.com/en-us/azure/machine-learning/batch-inference/how-to-use-batch-endpoint?view=azureml-api-2 as PDF...\n"
     ]
    }
   ],
   "source": [
    "base_url = \"https://learn.microsoft.com/en-us/azure/machine-learning/\"\n",
    "output_dir = 'azure_ml_docs'\n",
    "os.makedirs(output_dir, exist_ok=True)\n",
    "\n",
    "driver = setup_driver()\n",
    "links = interact_and_get_links(driver, base_url)\n",
    "\n",
    "for index, link in enumerate(links):\n",
    "    output_filename = os.path.join(output_dir, f\"article_{index+1}.pdf\")\n",
    "    print(f\"Saving {link} as PDF...\")\n",
    "    save_page_as_pdf(link, output_filename)\n",
    "\n",
    "driver.quit()"
   ]
  }
 ],
 "metadata": {
  "kernelspec": {
   "display_name": "mlenv",
   "language": "python",
   "name": "python3"
  },
  "language_info": {
   "codemirror_mode": {
    "name": "ipython",
    "version": 3
   },
   "file_extension": ".py",
   "mimetype": "text/x-python",
   "name": "python",
   "nbconvert_exporter": "python",
   "pygments_lexer": "ipython3",
   "version": "3.10.13"
  }
 },
 "nbformat": 4,
 "nbformat_minor": 2
}
